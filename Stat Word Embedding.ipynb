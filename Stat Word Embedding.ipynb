{
 "cells": [
  {
   "cell_type": "code",
   "execution_count": 1,
   "metadata": {},
   "outputs": [],
   "source": [
    "import nltk\n",
    "from nltk.corpus import stopwords\n",
    "import string\n",
    "import numpy as np\n",
    "from collections import Counter\n",
    "from collections import defaultdict"
   ]
  },
  {
   "cell_type": "code",
   "execution_count": 2,
   "metadata": {},
   "outputs": [],
   "source": [
    "#nltk.download()"
   ]
  },
  {
   "cell_type": "code",
   "execution_count": 3,
   "metadata": {},
   "outputs": [],
   "source": [
    "words=nltk.corpus.brown.words()"
   ]
  },
  {
   "cell_type": "code",
   "execution_count": 4,
   "metadata": {},
   "outputs": [
    {
     "data": {
      "text/plain": [
       "1161192"
      ]
     },
     "execution_count": 4,
     "metadata": {},
     "output_type": "execute_result"
    }
   ],
   "source": [
    "len(words)"
   ]
  },
  {
   "cell_type": "code",
   "execution_count": 5,
   "metadata": {
    "scrolled": true
   },
   "outputs": [],
   "source": [
    "list_stopWords=list(set(stopwords.words('english')))"
   ]
  },
  {
   "cell_type": "code",
   "execution_count": null,
   "metadata": {},
   "outputs": [],
   "source": []
  },
  {
   "cell_type": "code",
   "execution_count": 6,
   "metadata": {},
   "outputs": [
    {
     "data": {
      "text/plain": [
       "'!\"#$%&\\'()*+,-./:;<=>?@[\\\\]^_`{|}~'"
      ]
     },
     "execution_count": 6,
     "metadata": {},
     "output_type": "execute_result"
    }
   ],
   "source": [
    "string.punctuation"
   ]
  },
  {
   "cell_type": "code",
   "execution_count": 7,
   "metadata": {},
   "outputs": [],
   "source": [
    "filtered_words=[str(w).lower() for w in words[:] if not (str(w).lower() in list_stopWords or str(w) in string.punctuation or str(w)=='``'or str(w)==\"''\")]"
   ]
  },
  {
   "cell_type": "code",
   "execution_count": 8,
   "metadata": {
    "scrolled": false
   },
   "outputs": [
    {
     "data": {
      "text/plain": [
       "541723"
      ]
     },
     "execution_count": 8,
     "metadata": {},
     "output_type": "execute_result"
    }
   ],
   "source": [
    "len(filtered_words)"
   ]
  },
  {
   "cell_type": "code",
   "execution_count": 9,
   "metadata": {},
   "outputs": [],
   "source": [
    "filtered_words=[str(w).lower() for w in filtered_words if not (w in list_stopWords or w=='--')]"
   ]
  },
  {
   "cell_type": "code",
   "execution_count": 10,
   "metadata": {},
   "outputs": [
    {
     "data": {
      "text/plain": [
       "538291"
      ]
     },
     "execution_count": 10,
     "metadata": {},
     "output_type": "execute_result"
    }
   ],
   "source": [
    "len(filtered_words)"
   ]
  },
  {
   "cell_type": "code",
   "execution_count": 11,
   "metadata": {},
   "outputs": [],
   "source": [
    "counter=Counter(filtered_words)"
   ]
  },
  {
   "cell_type": "code",
   "execution_count": 12,
   "metadata": {},
   "outputs": [
    {
     "data": {
      "text/plain": [
       "49637"
      ]
     },
     "execution_count": 12,
     "metadata": {},
     "output_type": "execute_result"
    }
   ],
   "source": [
    "len(counter)"
   ]
  },
  {
   "cell_type": "code",
   "execution_count": 14,
   "metadata": {
    "scrolled": true
   },
   "outputs": [],
   "source": [
    "C=counter.most_common(1000)"
   ]
  },
  {
   "cell_type": "code",
   "execution_count": 15,
   "metadata": {},
   "outputs": [],
   "source": [
    "Cset=set([c[0] for c in C])"
   ]
  },
  {
   "cell_type": "code",
   "execution_count": 16,
   "metadata": {},
   "outputs": [],
   "source": [
    "V=counter.most_common(5000)"
   ]
  },
  {
   "cell_type": "code",
   "execution_count": 17,
   "metadata": {},
   "outputs": [],
   "source": [
    "Vset=set([v[0] for v in V])"
   ]
  },
  {
   "cell_type": "code",
   "execution_count": 86,
   "metadata": {},
   "outputs": [],
   "source": [
    "Vlist=[v[0] for v in V]"
   ]
  },
  {
   "cell_type": "markdown",
   "metadata": {},
   "source": [
    "# n(w, c) = # of times c occurs in a window around w."
   ]
  },
  {
   "cell_type": "code",
   "execution_count": 20,
   "metadata": {},
   "outputs": [
    {
     "data": {
      "text/plain": [
       "[('one', 3292),\n",
       " ('would', 2714),\n",
       " ('said', 1961),\n",
       " ('new', 1635),\n",
       " ('could', 1601),\n",
       " ('time', 1598),\n",
       " ('two', 1412),\n",
       " ('may', 1402),\n",
       " ('first', 1361),\n",
       " ('like', 1292),\n",
       " ('man', 1207),\n",
       " ('even', 1170),\n",
       " ('made', 1125),\n",
       " ('also', 1069),\n",
       " ('many', 1030),\n",
       " ('must', 1013),\n",
       " ('af', 996),\n",
       " ('back', 966),\n",
       " ('years', 950),\n",
       " ('much', 937),\n",
       " ('way', 908),\n",
       " ('well', 897),\n",
       " ('people', 847),\n",
       " ('mr.', 844),\n",
       " ('little', 831),\n",
       " ('state', 807),\n",
       " ('good', 806),\n",
       " ('make', 794),\n",
       " ('world', 787),\n",
       " ('still', 782)]"
      ]
     },
     "execution_count": 20,
     "metadata": {},
     "output_type": "execute_result"
    }
   ],
   "source": [
    "V[:30]"
   ]
  },
  {
   "cell_type": "code",
   "execution_count": 22,
   "metadata": {},
   "outputs": [],
   "source": [
    "nWC=defaultdict(int)\n",
    "for w in range(len(filtered_words)):\n",
    "    if filtered_words[w] in Vset:\n",
    "        if w-2>=0:\n",
    "            if filtered_words[w-2] in Cset:\n",
    "                nWC[(filtered_words[w],filtered_words[w-2])]+=1\n",
    "        if w-1>=0:\n",
    "            if filtered_words[w-1] in Cset:\n",
    "                nWC[(filtered_words[w],filtered_words[w-1])]+=1\n",
    "        if w+1<len(filtered_words):\n",
    "            if filtered_words[w+1] in Cset:\n",
    "                nWC[(filtered_words[w],filtered_words[w+1])]+=1\n",
    "        if w+2<len(filtered_words):\n",
    "            if filtered_words[w+2] in Cset:\n",
    "                nWC[(filtered_words[w],filtered_words[w+2])]+=1"
   ]
  },
  {
   "cell_type": "code",
   "execution_count": 23,
   "metadata": {},
   "outputs": [
    {
     "data": {
      "text/plain": [
       "466059"
      ]
     },
     "execution_count": 23,
     "metadata": {},
     "output_type": "execute_result"
    }
   ],
   "source": [
    "len(nWC)"
   ]
  },
  {
   "cell_type": "markdown",
   "metadata": {},
   "source": [
    "# Pr(C|W)"
   ]
  },
  {
   "cell_type": "code",
   "execution_count": 25,
   "metadata": {},
   "outputs": [],
   "source": [
    "PrCW=np.zeros((1000,5000))"
   ]
  },
  {
   "cell_type": "code",
   "execution_count": 26,
   "metadata": {},
   "outputs": [],
   "source": [
    "for c in range(1000):\n",
    "    for w in range(5000):\n",
    "        PrCW[c,w]=nWC[(V[w][0],C[c][0])]"
   ]
  },
  {
   "cell_type": "code",
   "execution_count": 27,
   "metadata": {},
   "outputs": [],
   "source": [
    "tmp=np.sum(PrCW,axis=0)"
   ]
  },
  {
   "cell_type": "code",
   "execution_count": 29,
   "metadata": {
    "scrolled": true
   },
   "outputs": [],
   "source": [
    "PrCW=PrCW/tmp"
   ]
  },
  {
   "cell_type": "markdown",
   "metadata": {},
   "source": [
    "# Pr(C)"
   ]
  },
  {
   "cell_type": "code",
   "execution_count": 32,
   "metadata": {},
   "outputs": [],
   "source": [
    "PrC=np.zeros(1000)"
   ]
  },
  {
   "cell_type": "code",
   "execution_count": 33,
   "metadata": {},
   "outputs": [],
   "source": [
    "totalc=sum([count[1] for count in C])"
   ]
  },
  {
   "cell_type": "code",
   "execution_count": 34,
   "metadata": {},
   "outputs": [],
   "source": [
    "for i in range(1000):\n",
    "    PrC[i]=C[i][1]*1./totalc"
   ]
  },
  {
   "cell_type": "markdown",
   "metadata": {},
   "source": [
    "# $\\phi_c(w)$"
   ]
  },
  {
   "cell_type": "code",
   "execution_count": 35,
   "metadata": {},
   "outputs": [],
   "source": [
    "PhiCW=np.zeros((1000,5000))"
   ]
  },
  {
   "cell_type": "code",
   "execution_count": 43,
   "metadata": {},
   "outputs": [
    {
     "name": "stderr",
     "output_type": "stream",
     "text": [
      "/anaconda2/lib/python2.7/site-packages/ipykernel_launcher.py:1: RuntimeWarning: divide by zero encountered in log\n",
      "  \"\"\"Entry point for launching an IPython kernel.\n"
     ]
    }
   ],
   "source": [
    "tmp=np.log(PrCW/PrC.reshape(-1,1))"
   ]
  },
  {
   "cell_type": "code",
   "execution_count": 60,
   "metadata": {},
   "outputs": [
    {
     "name": "stderr",
     "output_type": "stream",
     "text": [
      "/anaconda2/lib/python2.7/site-packages/ipykernel_launcher.py:1: RuntimeWarning: invalid value encountered in multiply\n",
      "  \"\"\"Entry point for launching an IPython kernel.\n"
     ]
    }
   ],
   "source": [
    "PhiCW=np.nan_to_num((tmp>0)*1*tmp)"
   ]
  },
  {
   "cell_type": "code",
   "execution_count": 61,
   "metadata": {},
   "outputs": [
    {
     "data": {
      "text/plain": [
       "array([[-0.        ,  0.04589105,  0.03686131, ...,  0.        ,\n",
       "         0.87171948,  0.        ],\n",
       "       [ 0.04098438,  0.15672467,  0.51279582, ...,  0.        ,\n",
       "         1.0647912 ,  0.91064052],\n",
       "       [-0.        ,  0.46730495,  0.24124449, ...,  1.07738553,\n",
       "         1.38976022,  0.        ],\n",
       "       ...,\n",
       "       [-0.        ,  0.35914367,  2.19594062, ...,  0.        ,\n",
       "         0.        ,  0.        ],\n",
       "       [-0.        ,  0.86996929,  0.        , ...,  0.        ,\n",
       "         0.        ,  0.        ],\n",
       "       [-0.        ,  0.        ,  0.        , ...,  0.        ,\n",
       "         0.        ,  0.        ]])"
      ]
     },
     "execution_count": 61,
     "metadata": {},
     "output_type": "execute_result"
    }
   ],
   "source": [
    "PhiCW"
   ]
  },
  {
   "cell_type": "code",
   "execution_count": 62,
   "metadata": {},
   "outputs": [],
   "source": [
    "from sklearn.decomposition import PCA"
   ]
  },
  {
   "cell_type": "code",
   "execution_count": 65,
   "metadata": {},
   "outputs": [],
   "source": [
    "pca=PCA(n_components=100)"
   ]
  },
  {
   "cell_type": "code",
   "execution_count": 70,
   "metadata": {},
   "outputs": [
    {
     "data": {
      "text/plain": [
       "PCA(copy=True, iterated_power='auto', n_components=100, random_state=None,\n",
       "  svd_solver='auto', tol=0.0, whiten=False)"
      ]
     },
     "execution_count": 70,
     "metadata": {},
     "output_type": "execute_result"
    }
   ],
   "source": [
    "pca.fit(PhiCW.T)"
   ]
  },
  {
   "cell_type": "code",
   "execution_count": 73,
   "metadata": {},
   "outputs": [],
   "source": [
    "embed=pca.fit_transform(PhiCW.T)"
   ]
  },
  {
   "cell_type": "code",
   "execution_count": 74,
   "metadata": {},
   "outputs": [
    {
     "data": {
      "text/plain": [
       "(5000, 100)"
      ]
     },
     "execution_count": 74,
     "metadata": {},
     "output_type": "execute_result"
    }
   ],
   "source": [
    "embed.shape"
   ]
  },
  {
   "cell_type": "code",
   "execution_count": 76,
   "metadata": {},
   "outputs": [],
   "source": [
    "from sklearn.cluster import KMeans"
   ]
  },
  {
   "cell_type": "code",
   "execution_count": 77,
   "metadata": {},
   "outputs": [],
   "source": [
    "kmeans = KMeans(n_clusters=100, random_state=0).fit(embed)"
   ]
  },
  {
   "cell_type": "code",
   "execution_count": 83,
   "metadata": {
    "scrolled": true
   },
   "outputs": [
    {
     "data": {
      "text/plain": [
       "Counter({0: 21,\n",
       "         1: 9,\n",
       "         2: 140,\n",
       "         3: 31,\n",
       "         4: 15,\n",
       "         5: 71,\n",
       "         6: 27,\n",
       "         7: 65,\n",
       "         8: 23,\n",
       "         9: 89,\n",
       "         10: 58,\n",
       "         11: 36,\n",
       "         12: 39,\n",
       "         13: 23,\n",
       "         14: 43,\n",
       "         15: 57,\n",
       "         16: 58,\n",
       "         17: 54,\n",
       "         18: 94,\n",
       "         19: 32,\n",
       "         20: 39,\n",
       "         21: 47,\n",
       "         22: 18,\n",
       "         23: 69,\n",
       "         24: 47,\n",
       "         25: 70,\n",
       "         26: 72,\n",
       "         27: 70,\n",
       "         28: 72,\n",
       "         29: 81,\n",
       "         30: 53,\n",
       "         31: 40,\n",
       "         32: 97,\n",
       "         33: 46,\n",
       "         34: 46,\n",
       "         35: 66,\n",
       "         36: 25,\n",
       "         37: 58,\n",
       "         38: 64,\n",
       "         39: 24,\n",
       "         40: 71,\n",
       "         41: 41,\n",
       "         42: 64,\n",
       "         43: 35,\n",
       "         44: 33,\n",
       "         45: 30,\n",
       "         46: 66,\n",
       "         47: 48,\n",
       "         48: 22,\n",
       "         49: 46,\n",
       "         50: 14,\n",
       "         51: 95,\n",
       "         52: 28,\n",
       "         53: 95,\n",
       "         54: 25,\n",
       "         55: 36,\n",
       "         56: 22,\n",
       "         57: 67,\n",
       "         58: 46,\n",
       "         59: 58,\n",
       "         60: 87,\n",
       "         61: 83,\n",
       "         62: 31,\n",
       "         63: 29,\n",
       "         64: 8,\n",
       "         65: 33,\n",
       "         66: 38,\n",
       "         67: 45,\n",
       "         68: 41,\n",
       "         69: 52,\n",
       "         70: 109,\n",
       "         71: 131,\n",
       "         72: 49,\n",
       "         73: 14,\n",
       "         74: 3,\n",
       "         75: 70,\n",
       "         76: 43,\n",
       "         77: 48,\n",
       "         78: 40,\n",
       "         79: 43,\n",
       "         80: 60,\n",
       "         81: 17,\n",
       "         82: 66,\n",
       "         83: 70,\n",
       "         84: 77,\n",
       "         85: 113,\n",
       "         86: 43,\n",
       "         87: 2,\n",
       "         88: 26,\n",
       "         89: 45,\n",
       "         90: 22,\n",
       "         91: 45,\n",
       "         92: 41,\n",
       "         93: 56,\n",
       "         94: 53,\n",
       "         95: 68,\n",
       "         96: 55,\n",
       "         97: 61,\n",
       "         98: 19,\n",
       "         99: 33})"
      ]
     },
     "execution_count": 83,
     "metadata": {},
     "output_type": "execute_result"
    }
   ],
   "source": [
    "Counter(kmeans.labels_)"
   ]
  },
  {
   "cell_type": "code",
   "execution_count": 95,
   "metadata": {},
   "outputs": [
    {
     "data": {
      "text/plain": [
       "(772, 1888, 368)"
      ]
     },
     "execution_count": 95,
     "metadata": {},
     "output_type": "execute_result"
    }
   ],
   "source": [
    "Vlist.index('green'),Vlist.index('yellow'),Vlist.index('red')"
   ]
  },
  {
   "cell_type": "code",
   "execution_count": 128,
   "metadata": {},
   "outputs": [],
   "source": [
    "predkmeans=kmeans.predict(embed[:,:])"
   ]
  },
  {
   "cell_type": "code",
   "execution_count": 134,
   "metadata": {},
   "outputs": [
    {
     "name": "stdout",
     "output_type": "stream",
     "text": [
      "white black red hair blue green deep mouth thin bright neck gray lips thick dress fingers wore holding shoulder nose leg pale hole sky beneath hat yellow tall wood grass chest shoulders throat tiny pair pink suit rolled skin wearing shoes dirt lifted golden burned knees stomach tongue bent jacket falling slipped lightly pressed bare pot powder shirt beard leather belly tie backward shining stiff blonde boots grabbed trim brushed\n"
     ]
    }
   ],
   "source": [
    "for i in range(len(predkmeans)):\n",
    "    if predkmeans[i]==27:\n",
    "        print Vlist[i],"
   ]
  },
  {
   "cell_type": "code",
   "execution_count": 130,
   "metadata": {},
   "outputs": [
    {
     "data": {
      "text/plain": [
       "'fact'"
      ]
     },
     "execution_count": 130,
     "metadata": {},
     "output_type": "execute_result"
    }
   ],
   "source": [
    "Vlist[predkmeans[0]]"
   ]
  },
  {
   "cell_type": "code",
   "execution_count": 97,
   "metadata": {},
   "outputs": [
    {
     "data": {
      "text/plain": [
       "array([27], dtype=int32)"
      ]
     },
     "execution_count": 97,
     "metadata": {},
     "output_type": "execute_result"
    }
   ],
   "source": [
    "kmeans.predict(embed[368:368+1,:])"
   ]
  },
  {
   "cell_type": "code",
   "execution_count": 99,
   "metadata": {},
   "outputs": [],
   "source": [
    "from sklearn.neighbors import NearestNeighbors"
   ]
  },
  {
   "cell_type": "code",
   "execution_count": 103,
   "metadata": {},
   "outputs": [],
   "source": [
    "neigh = NearestNeighbors(metric='cosine',n_neighbors=2)"
   ]
  },
  {
   "cell_type": "code",
   "execution_count": 104,
   "metadata": {},
   "outputs": [
    {
     "data": {
      "text/plain": [
       "NearestNeighbors(algorithm='auto', leaf_size=30, metric='cosine',\n",
       "         metric_params=None, n_jobs=1, n_neighbors=2, p=2, radius=1.0)"
      ]
     },
     "execution_count": 104,
     "metadata": {},
     "output_type": "execute_result"
    }
   ],
   "source": [
    "neigh.fit(embed)  "
   ]
  },
  {
   "cell_type": "code",
   "execution_count": 105,
   "metadata": {},
   "outputs": [
    {
     "data": {
      "text/plain": [
       "array([[772, 576]])"
      ]
     },
     "execution_count": 105,
     "metadata": {},
     "output_type": "execute_result"
    }
   ],
   "source": [
    "neigh.kneighbors(embed[772:773,:], return_distance=False)"
   ]
  },
  {
   "cell_type": "code",
   "execution_count": 106,
   "metadata": {},
   "outputs": [
    {
     "data": {
      "text/plain": [
       "'blue'"
      ]
     },
     "execution_count": 106,
     "metadata": {},
     "output_type": "execute_result"
    }
   ],
   "source": [
    "Vlist[576]"
   ]
  },
  {
   "cell_type": "code",
   "execution_count": 110,
   "metadata": {},
   "outputs": [],
   "source": [
    "test=['also','like','first','one','green','communism', 'autumn', 'cigarette', 'pulmonary', 'mankind', 'africa', 'chicago', 'revolution', 'september', 'chemical', 'detergent', 'dictionary', 'storm', 'worship']"
   ]
  },
  {
   "cell_type": "code",
   "execution_count": 117,
   "metadata": {},
   "outputs": [],
   "source": [
    "test=test+['way','little','us','go','see','never']"
   ]
  },
  {
   "cell_type": "code",
   "execution_count": 125,
   "metadata": {},
   "outputs": [
    {
     "name": "stdout",
     "output_type": "stream",
     "text": [
      "also \t\t\talthough\n",
      "like \t\t\tsaid\n",
      "first \t\t\tlast\n",
      "one \t\t\tthing\n",
      "green \t\t\tblue\n",
      "communism \t\t\trecording\n",
      "autumn \t\t\tstorm\n",
      "cigarette \t\t\tlighted\n",
      "pulmonary \t\t\tartery\n",
      "mankind \t\t\tworld\n",
      "africa \t\t\tasia\n",
      "chicago \t\t\tclub\n",
      "revolution \t\t\trenaissance\n",
      "september \t\t\tjuly\n",
      "chemical \t\t\tinstances\n",
      "detergent \t\t\ttubes\n",
      "dictionary \t\t\ttext\n",
      "storm \t\t\tautumn\n",
      "worship \t\t\tconscience\n",
      "way \t\t\ti'm\n",
      "little \t\t\twoman\n",
      "us \t\t\tlet\n",
      "go \t\t\ti'll\n",
      "see \t\t\ttell\n",
      "never \t\t\tknew\n"
     ]
    }
   ],
   "source": [
    "for i in test:\n",
    "    ind=Vlist.index(i)\n",
    "    pred=neigh.kneighbors(embed[ind:ind+1,:], return_distance=False)[0][1]\n",
    "    print i,\n",
    "    print '\\t\\t\\t',Vlist[pred]"
   ]
  },
  {
   "cell_type": "code",
   "execution_count": null,
   "metadata": {},
   "outputs": [],
   "source": []
  }
 ],
 "metadata": {
  "kernelspec": {
   "display_name": "Python 2",
   "language": "python",
   "name": "python2"
  },
  "language_info": {
   "codemirror_mode": {
    "name": "ipython",
    "version": 2
   },
   "file_extension": ".py",
   "mimetype": "text/x-python",
   "name": "python",
   "nbconvert_exporter": "python",
   "pygments_lexer": "ipython2",
   "version": "2.7.14"
  }
 },
 "nbformat": 4,
 "nbformat_minor": 2
}
